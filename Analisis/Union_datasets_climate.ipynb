{
 "cells": [
  {
   "cell_type": "markdown",
   "metadata": {},
   "source": [
    "# Preprocesamiento datasets variables climáticas"
   ]
  },
  {
   "cell_type": "markdown",
   "metadata": {},
   "source": [
    "## 1. Importar librerias"
   ]
  },
  {
   "cell_type": "code",
   "execution_count": 1,
   "metadata": {},
   "outputs": [],
   "source": [
    "#!pip install pyproj\n",
    "import pandas as pd\n",
    "from pyproj import Transformer"
   ]
  },
  {
   "cell_type": "markdown",
   "metadata": {},
   "source": [
    "## 2. Importar datasets y concatenar"
   ]
  },
  {
   "cell_type": "markdown",
   "metadata": {},
   "source": [
    "### 2.1 Temperatura media"
   ]
  },
  {
   "cell_type": "code",
   "execution_count": 2,
   "metadata": {
    "scrolled": true
   },
   "outputs": [
    {
     "data": {
      "text/html": [
       "<div>\n",
       "<style scoped>\n",
       "    .dataframe tbody tr th:only-of-type {\n",
       "        vertical-align: middle;\n",
       "    }\n",
       "\n",
       "    .dataframe tbody tr th {\n",
       "        vertical-align: top;\n",
       "    }\n",
       "\n",
       "    .dataframe thead th {\n",
       "        text-align: right;\n",
       "    }\n",
       "</style>\n",
       "<table border=\"1\" class=\"dataframe\">\n",
       "  <thead>\n",
       "    <tr style=\"text-align: right;\">\n",
       "      <th></th>\n",
       "      <th>FID</th>\n",
       "      <th>id_punto</th>\n",
       "      <th>agno</th>\n",
       "      <th>temp_anual</th>\n",
       "      <th>geom</th>\n",
       "    </tr>\n",
       "  </thead>\n",
       "  <tbody>\n",
       "    <tr>\n",
       "      <th>0</th>\n",
       "      <td>temp_anual_espacial_p.fid-6ba7a30a_1775aed6af4...</td>\n",
       "      <td>0</td>\n",
       "      <td>2000</td>\n",
       "      <td>-20.39</td>\n",
       "      <td>POINT (-4202310.777446077 18546349.31878927)</td>\n",
       "    </tr>\n",
       "    <tr>\n",
       "      <th>1</th>\n",
       "      <td>temp_anual_espacial_p.fid-6ba7a30a_1775aed6af4...</td>\n",
       "      <td>0</td>\n",
       "      <td>2001</td>\n",
       "      <td>-20.02</td>\n",
       "      <td>POINT (-4202310.777446077 18546349.31878927)</td>\n",
       "    </tr>\n",
       "    <tr>\n",
       "      <th>2</th>\n",
       "      <td>temp_anual_espacial_p.fid-6ba7a30a_1775aed6af4...</td>\n",
       "      <td>0</td>\n",
       "      <td>2002</td>\n",
       "      <td>-19.44</td>\n",
       "      <td>POINT (-4202310.777446077 18546349.31878927)</td>\n",
       "    </tr>\n",
       "  </tbody>\n",
       "</table>\n",
       "</div>"
      ],
      "text/plain": [
       "                                                 FID  id_punto  agno  \\\n",
       "0  temp_anual_espacial_p.fid-6ba7a30a_1775aed6af4...         0  2000   \n",
       "1  temp_anual_espacial_p.fid-6ba7a30a_1775aed6af4...         0  2001   \n",
       "2  temp_anual_espacial_p.fid-6ba7a30a_1775aed6af4...         0  2002   \n",
       "\n",
       "   temp_anual                                          geom  \n",
       "0      -20.39  POINT (-4202310.777446077 18546349.31878927)  \n",
       "1      -20.02  POINT (-4202310.777446077 18546349.31878927)  \n",
       "2      -19.44  POINT (-4202310.777446077 18546349.31878927)  "
      ]
     },
     "execution_count": 2,
     "metadata": {},
     "output_type": "execute_result"
    }
   ],
   "source": [
    "datatemp1 = pd.read_csv('temp_anual_2000_2006.csv')\n",
    "datatemp2 = pd.read_csv('temp_anual_2007_2013.csv')\n",
    "data_temp_anual = pd.concat([datatemp1, datatemp2])\n",
    "data_temp_anual.head(3)"
   ]
  },
  {
   "cell_type": "markdown",
   "metadata": {},
   "source": [
    "### 2.2 Temperatura máxima"
   ]
  },
  {
   "cell_type": "code",
   "execution_count": 3,
   "metadata": {},
   "outputs": [
    {
     "data": {
      "text/html": [
       "<div>\n",
       "<style scoped>\n",
       "    .dataframe tbody tr th:only-of-type {\n",
       "        vertical-align: middle;\n",
       "    }\n",
       "\n",
       "    .dataframe tbody tr th {\n",
       "        vertical-align: top;\n",
       "    }\n",
       "\n",
       "    .dataframe thead th {\n",
       "        text-align: right;\n",
       "    }\n",
       "</style>\n",
       "<table border=\"1\" class=\"dataframe\">\n",
       "  <thead>\n",
       "    <tr style=\"text-align: right;\">\n",
       "      <th></th>\n",
       "      <th>FID</th>\n",
       "      <th>id_punto</th>\n",
       "      <th>agno</th>\n",
       "      <th>temp_max_anual</th>\n",
       "      <th>geom</th>\n",
       "    </tr>\n",
       "  </thead>\n",
       "  <tbody>\n",
       "    <tr>\n",
       "      <th>0</th>\n",
       "      <td>temp_max_anual_espacial_p.fid-6ba7a30a_177bd4a...</td>\n",
       "      <td>0</td>\n",
       "      <td>2000</td>\n",
       "      <td>-16.61</td>\n",
       "      <td>POINT (-4202310.777446077 18546349.31878927)</td>\n",
       "    </tr>\n",
       "    <tr>\n",
       "      <th>1</th>\n",
       "      <td>temp_max_anual_espacial_p.fid-6ba7a30a_177bd4a...</td>\n",
       "      <td>0</td>\n",
       "      <td>2001</td>\n",
       "      <td>-16.28</td>\n",
       "      <td>POINT (-4202310.777446077 18546349.31878927)</td>\n",
       "    </tr>\n",
       "    <tr>\n",
       "      <th>2</th>\n",
       "      <td>temp_max_anual_espacial_p.fid-6ba7a30a_177bd4a...</td>\n",
       "      <td>0</td>\n",
       "      <td>2002</td>\n",
       "      <td>-15.61</td>\n",
       "      <td>POINT (-4202310.777446077 18546349.31878927)</td>\n",
       "    </tr>\n",
       "  </tbody>\n",
       "</table>\n",
       "</div>"
      ],
      "text/plain": [
       "                                                 FID  id_punto  agno  \\\n",
       "0  temp_max_anual_espacial_p.fid-6ba7a30a_177bd4a...         0  2000   \n",
       "1  temp_max_anual_espacial_p.fid-6ba7a30a_177bd4a...         0  2001   \n",
       "2  temp_max_anual_espacial_p.fid-6ba7a30a_177bd4a...         0  2002   \n",
       "\n",
       "   temp_max_anual                                          geom  \n",
       "0          -16.61  POINT (-4202310.777446077 18546349.31878927)  \n",
       "1          -16.28  POINT (-4202310.777446077 18546349.31878927)  \n",
       "2          -15.61  POINT (-4202310.777446077 18546349.31878927)  "
      ]
     },
     "execution_count": 3,
     "metadata": {},
     "output_type": "execute_result"
    }
   ],
   "source": [
    "datatmax1 = pd.read_csv('temp_maxima_2000_2006.csv')\n",
    "datatmax2 = pd.read_csv('temp_maxima_2007_2012.csv')\n",
    "data_temp_max = pd.concat([datatmax1, datatmax2])\n",
    "data_temp_max.head(3)"
   ]
  },
  {
   "cell_type": "markdown",
   "metadata": {},
   "source": [
    "### 2.3 Temperatura mínima"
   ]
  },
  {
   "cell_type": "code",
   "execution_count": 4,
   "metadata": {},
   "outputs": [
    {
     "data": {
      "text/html": [
       "<div>\n",
       "<style scoped>\n",
       "    .dataframe tbody tr th:only-of-type {\n",
       "        vertical-align: middle;\n",
       "    }\n",
       "\n",
       "    .dataframe tbody tr th {\n",
       "        vertical-align: top;\n",
       "    }\n",
       "\n",
       "    .dataframe thead th {\n",
       "        text-align: right;\n",
       "    }\n",
       "</style>\n",
       "<table border=\"1\" class=\"dataframe\">\n",
       "  <thead>\n",
       "    <tr style=\"text-align: right;\">\n",
       "      <th></th>\n",
       "      <th>FID</th>\n",
       "      <th>id_punto</th>\n",
       "      <th>agno</th>\n",
       "      <th>temp_min_anual</th>\n",
       "      <th>geom</th>\n",
       "    </tr>\n",
       "  </thead>\n",
       "  <tbody>\n",
       "    <tr>\n",
       "      <th>0</th>\n",
       "      <td>temp_min_anual_espacial_p.fid-6ba7a30a_177bd4e...</td>\n",
       "      <td>0</td>\n",
       "      <td>2000</td>\n",
       "      <td>-24.2</td>\n",
       "      <td>POINT (-4202310.777446077 18546349.31878927)</td>\n",
       "    </tr>\n",
       "    <tr>\n",
       "      <th>1</th>\n",
       "      <td>temp_min_anual_espacial_p.fid-6ba7a30a_177bd4e...</td>\n",
       "      <td>0</td>\n",
       "      <td>2001</td>\n",
       "      <td>-23.8</td>\n",
       "      <td>POINT (-4202310.777446077 18546349.31878927)</td>\n",
       "    </tr>\n",
       "    <tr>\n",
       "      <th>2</th>\n",
       "      <td>temp_min_anual_espacial_p.fid-6ba7a30a_177bd4e...</td>\n",
       "      <td>0</td>\n",
       "      <td>2002</td>\n",
       "      <td>-23.3</td>\n",
       "      <td>POINT (-4202310.777446077 18546349.31878927)</td>\n",
       "    </tr>\n",
       "  </tbody>\n",
       "</table>\n",
       "</div>"
      ],
      "text/plain": [
       "                                                 FID  id_punto  agno  \\\n",
       "0  temp_min_anual_espacial_p.fid-6ba7a30a_177bd4e...         0  2000   \n",
       "1  temp_min_anual_espacial_p.fid-6ba7a30a_177bd4e...         0  2001   \n",
       "2  temp_min_anual_espacial_p.fid-6ba7a30a_177bd4e...         0  2002   \n",
       "\n",
       "   temp_min_anual                                          geom  \n",
       "0           -24.2  POINT (-4202310.777446077 18546349.31878927)  \n",
       "1           -23.8  POINT (-4202310.777446077 18546349.31878927)  \n",
       "2           -23.3  POINT (-4202310.777446077 18546349.31878927)  "
      ]
     },
     "execution_count": 4,
     "metadata": {},
     "output_type": "execute_result"
    }
   ],
   "source": [
    "datatmin1 = pd.read_csv('temp_minima_2000_2006.csv')\n",
    "datatmin2 = pd.read_csv('temp_minima_2007_2012.csv')\n",
    "data_temp_min = pd.concat([datatmin1, datatmin2])\n",
    "data_temp_min.head(3)"
   ]
  },
  {
   "cell_type": "markdown",
   "metadata": {},
   "source": [
    "### 2.3 Lluvia"
   ]
  },
  {
   "cell_type": "code",
   "execution_count": 5,
   "metadata": {},
   "outputs": [
    {
     "data": {
      "text/html": [
       "<div>\n",
       "<style scoped>\n",
       "    .dataframe tbody tr th:only-of-type {\n",
       "        vertical-align: middle;\n",
       "    }\n",
       "\n",
       "    .dataframe tbody tr th {\n",
       "        vertical-align: top;\n",
       "    }\n",
       "\n",
       "    .dataframe thead th {\n",
       "        text-align: right;\n",
       "    }\n",
       "</style>\n",
       "<table border=\"1\" class=\"dataframe\">\n",
       "  <thead>\n",
       "    <tr style=\"text-align: right;\">\n",
       "      <th></th>\n",
       "      <th>FID</th>\n",
       "      <th>id_punto</th>\n",
       "      <th>agno</th>\n",
       "      <th>pre_anual</th>\n",
       "      <th>geom</th>\n",
       "    </tr>\n",
       "  </thead>\n",
       "  <tbody>\n",
       "    <tr>\n",
       "      <th>0</th>\n",
       "      <td>pre_anual_espacial_p.fid-6ba7a30a_1775aeff0ca_...</td>\n",
       "      <td>0</td>\n",
       "      <td>2000</td>\n",
       "      <td>10.0</td>\n",
       "      <td>POINT (-4202310.777446077 18546349.31878927)</td>\n",
       "    </tr>\n",
       "    <tr>\n",
       "      <th>1</th>\n",
       "      <td>pre_anual_espacial_p.fid-6ba7a30a_1775aeff0ca_...</td>\n",
       "      <td>0</td>\n",
       "      <td>2001</td>\n",
       "      <td>10.0</td>\n",
       "      <td>POINT (-4202310.777446077 18546349.31878927)</td>\n",
       "    </tr>\n",
       "    <tr>\n",
       "      <th>2</th>\n",
       "      <td>pre_anual_espacial_p.fid-6ba7a30a_1775aeff0ca_...</td>\n",
       "      <td>0</td>\n",
       "      <td>2002</td>\n",
       "      <td>10.0</td>\n",
       "      <td>POINT (-4202310.777446077 18546349.31878927)</td>\n",
       "    </tr>\n",
       "  </tbody>\n",
       "</table>\n",
       "</div>"
      ],
      "text/plain": [
       "                                                 FID  id_punto  agno  \\\n",
       "0  pre_anual_espacial_p.fid-6ba7a30a_1775aeff0ca_...         0  2000   \n",
       "1  pre_anual_espacial_p.fid-6ba7a30a_1775aeff0ca_...         0  2001   \n",
       "2  pre_anual_espacial_p.fid-6ba7a30a_1775aeff0ca_...         0  2002   \n",
       "\n",
       "   pre_anual                                          geom  \n",
       "0       10.0  POINT (-4202310.777446077 18546349.31878927)  \n",
       "1       10.0  POINT (-4202310.777446077 18546349.31878927)  \n",
       "2       10.0  POINT (-4202310.777446077 18546349.31878927)  "
      ]
     },
     "execution_count": 5,
     "metadata": {},
     "output_type": "execute_result"
    }
   ],
   "source": [
    "datarain1 = pd.read_csv('rainfall_anual_2000_2006.csv')\n",
    "datarain2 = pd.read_csv('rainfall_anual_2007_2012.csv')\n",
    "data_rain = pd.concat([datarain1, datarain2])\n",
    "data_rain.head(3)"
   ]
  },
  {
   "cell_type": "markdown",
   "metadata": {},
   "source": [
    "#### 2.4 Evapotranspiración potencial"
   ]
  },
  {
   "cell_type": "code",
   "execution_count": 6,
   "metadata": {},
   "outputs": [
    {
     "data": {
      "text/html": [
       "<div>\n",
       "<style scoped>\n",
       "    .dataframe tbody tr th:only-of-type {\n",
       "        vertical-align: middle;\n",
       "    }\n",
       "\n",
       "    .dataframe tbody tr th {\n",
       "        vertical-align: top;\n",
       "    }\n",
       "\n",
       "    .dataframe thead th {\n",
       "        text-align: right;\n",
       "    }\n",
       "</style>\n",
       "<table border=\"1\" class=\"dataframe\">\n",
       "  <thead>\n",
       "    <tr style=\"text-align: right;\">\n",
       "      <th></th>\n",
       "      <th>FID</th>\n",
       "      <th>id_punto</th>\n",
       "      <th>agno</th>\n",
       "      <th>etp_anual</th>\n",
       "      <th>geom</th>\n",
       "    </tr>\n",
       "  </thead>\n",
       "  <tbody>\n",
       "    <tr>\n",
       "      <th>0</th>\n",
       "      <td>etp_anual_espacial_p.fid-6ba7a30a_177bcf97f6d_...</td>\n",
       "      <td>30</td>\n",
       "      <td>2000</td>\n",
       "      <td>171</td>\n",
       "      <td>POINT (-4870227.722205719 18054427.270440254)</td>\n",
       "    </tr>\n",
       "    <tr>\n",
       "      <th>1</th>\n",
       "      <td>etp_anual_espacial_p.fid-6ba7a30a_177bcf97f6d_...</td>\n",
       "      <td>30</td>\n",
       "      <td>2001</td>\n",
       "      <td>177</td>\n",
       "      <td>POINT (-4870227.722205719 18054427.270440254)</td>\n",
       "    </tr>\n",
       "    <tr>\n",
       "      <th>2</th>\n",
       "      <td>etp_anual_espacial_p.fid-6ba7a30a_177bcf97f6d_...</td>\n",
       "      <td>30</td>\n",
       "      <td>2002</td>\n",
       "      <td>216</td>\n",
       "      <td>POINT (-4870227.722205719 18054427.270440254)</td>\n",
       "    </tr>\n",
       "  </tbody>\n",
       "</table>\n",
       "</div>"
      ],
      "text/plain": [
       "                                                 FID  id_punto  agno  \\\n",
       "0  etp_anual_espacial_p.fid-6ba7a30a_177bcf97f6d_...        30  2000   \n",
       "1  etp_anual_espacial_p.fid-6ba7a30a_177bcf97f6d_...        30  2001   \n",
       "2  etp_anual_espacial_p.fid-6ba7a30a_177bcf97f6d_...        30  2002   \n",
       "\n",
       "   etp_anual                                           geom  \n",
       "0        171  POINT (-4870227.722205719 18054427.270440254)  \n",
       "1        177  POINT (-4870227.722205719 18054427.270440254)  \n",
       "2        216  POINT (-4870227.722205719 18054427.270440254)  "
      ]
     },
     "execution_count": 6,
     "metadata": {},
     "output_type": "execute_result"
    }
   ],
   "source": [
    "dataETP1 = pd.read_csv('PET_anual_2000_2006.csv')\n",
    "dataETP2 = pd.read_csv('PET_anual_2007_2012.csv')\n",
    "data_ETP = pd.concat([dataETP1, dataETP2])\n",
    "data_ETP.head(3)"
   ]
  },
  {
   "cell_type": "markdown",
   "metadata": {},
   "source": [
    "**Observación**: Se identifica que no estan los puntos del 0 al 29 en la variable 'etp_anual'"
   ]
  },
  {
   "cell_type": "markdown",
   "metadata": {},
   "source": [
    "### 2.5 Validación de los datasets"
   ]
  },
  {
   "cell_type": "markdown",
   "metadata": {},
   "source": [
    "- Cantidad de datos"
   ]
  },
  {
   "cell_type": "code",
   "execution_count": 7,
   "metadata": {
    "scrolled": true
   },
   "outputs": [
    {
     "name": "stdout",
     "output_type": "stream",
     "text": [
      "data_temp_anual: (876460, 5)\n",
      "data_temp_max: (876460, 5)\n",
      "data_temp_min: (876460, 5)\n",
      "data_rain: (876460, 5)\n",
      "data_ETP: (812279, 5)\n"
     ]
    }
   ],
   "source": [
    "print('data_temp_anual:',data_temp_anual.shape)\n",
    "print('data_temp_max:',data_temp_max.shape)\n",
    "print('data_temp_min:',data_temp_min.shape)\n",
    "print('data_rain:',data_rain.shape)\n",
    "print('data_ETP:',data_ETP.shape)"
   ]
  },
  {
   "cell_type": "markdown",
   "metadata": {},
   "source": [
    "**Observación**: Se identifican nuevamente los datos fatltantes en la variable 'etp_anual'"
   ]
  },
  {
   "cell_type": "markdown",
   "metadata": {},
   "source": [
    " - Que se tengan los años completos de 2000 a 2012"
   ]
  },
  {
   "cell_type": "code",
   "execution_count": 8,
   "metadata": {},
   "outputs": [
    {
     "name": "stdout",
     "output_type": "stream",
     "text": [
      "data_temp_anual: [2000 2001 2002 2003 2004 2005 2006 2007 2008 2009 2010 2011 2012]\n",
      "data_temp_max: [2000 2001 2002 2003 2004 2005 2006 2007 2008 2009 2010 2011 2012]\n",
      "data_temp_min: [2000 2001 2002 2003 2004 2005 2006 2007 2008 2009 2010 2011 2012]\n",
      "data_rain: [2000 2001 2002 2003 2004 2005 2006 2007 2008 2009 2010 2011 2012]\n",
      "data_ETP: [2000 2001 2002 2003 2004 2005 2006 2007 2008 2009 2010 2011 2012]\n"
     ]
    }
   ],
   "source": [
    "print('data_temp_anual:',data_temp_anual['agno'].unique())\n",
    "print('data_temp_max:',data_temp_max['agno'].unique())\n",
    "print('data_temp_min:',data_temp_min['agno'].unique())\n",
    "print('data_rain:',data_rain['agno'].unique())\n",
    "print('data_ETP:',data_ETP['agno'].unique())"
   ]
  },
  {
   "cell_type": "markdown",
   "metadata": {},
   "source": [
    "## 3. Unificar datasets"
   ]
  },
  {
   "cell_type": "markdown",
   "metadata": {},
   "source": [
    "Para unificar los datasets  se una como claves las variables 'id_punto' y 'agno'"
   ]
  },
  {
   "cell_type": "markdown",
   "metadata": {},
   "source": [
    "Transformamos las bases de datos para poder hacer merge"
   ]
  },
  {
   "cell_type": "markdown",
   "metadata": {},
   "source": [
    "- eliminando la primera columna en todas las datas, ya que no aporta al ejercicio"
   ]
  },
  {
   "cell_type": "code",
   "execution_count": 9,
   "metadata": {},
   "outputs": [],
   "source": [
    "data_temp_anual.drop(columns=['FID'],inplace=True)\n",
    "data_temp_max.drop(columns=['FID','geom'],inplace=True)\n",
    "data_temp_min.drop(columns=['FID','geom'],inplace=True)\n",
    "data_rain.drop(columns=['FID','geom'],inplace=True)\n",
    "data_ETP.drop(columns=['FID','geom'],inplace=True)"
   ]
  },
  {
   "cell_type": "markdown",
   "metadata": {},
   "source": [
    "- Uniendo 'Id_punto' y 'agno' en una sola variable"
   ]
  },
  {
   "cell_type": "code",
   "execution_count": 10,
   "metadata": {},
   "outputs": [],
   "source": [
    "data_clima=pd.merge(data_temp_anual,data_temp_max,on=['id_punto', 'agno'])\n",
    "#data_clima.head(3)"
   ]
  },
  {
   "cell_type": "code",
   "execution_count": 11,
   "metadata": {},
   "outputs": [],
   "source": [
    "data_clima=pd.merge(data_clima,data_temp_min,on=['id_punto', 'agno'])\n",
    "#data_clima.head(3)"
   ]
  },
  {
   "cell_type": "code",
   "execution_count": 12,
   "metadata": {},
   "outputs": [],
   "source": [
    "data_clima=pd.merge(data_clima,data_rain,on=['id_punto', 'agno'])\n",
    "#data_clima.head(3)"
   ]
  },
  {
   "cell_type": "code",
   "execution_count": 13,
   "metadata": {},
   "outputs": [
    {
     "data": {
      "text/html": [
       "<div>\n",
       "<style scoped>\n",
       "    .dataframe tbody tr th:only-of-type {\n",
       "        vertical-align: middle;\n",
       "    }\n",
       "\n",
       "    .dataframe tbody tr th {\n",
       "        vertical-align: top;\n",
       "    }\n",
       "\n",
       "    .dataframe thead th {\n",
       "        text-align: right;\n",
       "    }\n",
       "</style>\n",
       "<table border=\"1\" class=\"dataframe\">\n",
       "  <thead>\n",
       "    <tr style=\"text-align: right;\">\n",
       "      <th></th>\n",
       "      <th>id_punto</th>\n",
       "      <th>agno</th>\n",
       "      <th>temp_anual</th>\n",
       "      <th>geom</th>\n",
       "      <th>temp_max_anual</th>\n",
       "      <th>temp_min_anual</th>\n",
       "      <th>pre_anual</th>\n",
       "      <th>etp_anual</th>\n",
       "    </tr>\n",
       "  </thead>\n",
       "  <tbody>\n",
       "    <tr>\n",
       "      <th>0</th>\n",
       "      <td>30</td>\n",
       "      <td>2000</td>\n",
       "      <td>-21.89</td>\n",
       "      <td>POINT (-4870227.722205719 18054427.270440254)</td>\n",
       "      <td>-11.05</td>\n",
       "      <td>-32.75</td>\n",
       "      <td>26.0</td>\n",
       "      <td>171</td>\n",
       "    </tr>\n",
       "    <tr>\n",
       "      <th>1</th>\n",
       "      <td>30</td>\n",
       "      <td>2001</td>\n",
       "      <td>-21.49</td>\n",
       "      <td>POINT (-4870227.722205719 18054427.270440254)</td>\n",
       "      <td>-10.65</td>\n",
       "      <td>-32.35</td>\n",
       "      <td>26.0</td>\n",
       "      <td>177</td>\n",
       "    </tr>\n",
       "    <tr>\n",
       "      <th>2</th>\n",
       "      <td>30</td>\n",
       "      <td>2002</td>\n",
       "      <td>-20.82</td>\n",
       "      <td>POINT (-4870227.722205719 18054427.270440254)</td>\n",
       "      <td>-9.87</td>\n",
       "      <td>-31.80</td>\n",
       "      <td>26.0</td>\n",
       "      <td>216</td>\n",
       "    </tr>\n",
       "  </tbody>\n",
       "</table>\n",
       "</div>"
      ],
      "text/plain": [
       "   id_punto  agno  temp_anual                                           geom  \\\n",
       "0        30  2000      -21.89  POINT (-4870227.722205719 18054427.270440254)   \n",
       "1        30  2001      -21.49  POINT (-4870227.722205719 18054427.270440254)   \n",
       "2        30  2002      -20.82  POINT (-4870227.722205719 18054427.270440254)   \n",
       "\n",
       "   temp_max_anual  temp_min_anual  pre_anual  etp_anual  \n",
       "0          -11.05          -32.75       26.0        171  \n",
       "1          -10.65          -32.35       26.0        177  \n",
       "2           -9.87          -31.80       26.0        216  "
      ]
     },
     "execution_count": 13,
     "metadata": {},
     "output_type": "execute_result"
    }
   ],
   "source": [
    "data_clima=pd.merge(data_clima,data_ETP,on=['id_punto', 'agno'])\n",
    "data_clima.head(3)"
   ]
  },
  {
   "cell_type": "code",
   "execution_count": 14,
   "metadata": {},
   "outputs": [
    {
     "data": {
      "text/html": [
       "<div>\n",
       "<style scoped>\n",
       "    .dataframe tbody tr th:only-of-type {\n",
       "        vertical-align: middle;\n",
       "    }\n",
       "\n",
       "    .dataframe tbody tr th {\n",
       "        vertical-align: top;\n",
       "    }\n",
       "\n",
       "    .dataframe thead th {\n",
       "        text-align: right;\n",
       "    }\n",
       "</style>\n",
       "<table border=\"1\" class=\"dataframe\">\n",
       "  <thead>\n",
       "    <tr style=\"text-align: right;\">\n",
       "      <th></th>\n",
       "      <th>id_punto</th>\n",
       "      <th>agno</th>\n",
       "      <th>temp_anual</th>\n",
       "      <th>temp_max_anual</th>\n",
       "      <th>temp_min_anual</th>\n",
       "      <th>etp_anual</th>\n",
       "      <th>geom</th>\n",
       "    </tr>\n",
       "  </thead>\n",
       "  <tbody>\n",
       "    <tr>\n",
       "      <th>0</th>\n",
       "      <td>30</td>\n",
       "      <td>2000</td>\n",
       "      <td>-21.89</td>\n",
       "      <td>-11.05</td>\n",
       "      <td>-32.75</td>\n",
       "      <td>171</td>\n",
       "      <td>POINT (-4870227.722205719 18054427.270440254)</td>\n",
       "    </tr>\n",
       "    <tr>\n",
       "      <th>1</th>\n",
       "      <td>30</td>\n",
       "      <td>2001</td>\n",
       "      <td>-21.49</td>\n",
       "      <td>-10.65</td>\n",
       "      <td>-32.35</td>\n",
       "      <td>177</td>\n",
       "      <td>POINT (-4870227.722205719 18054427.270440254)</td>\n",
       "    </tr>\n",
       "    <tr>\n",
       "      <th>2</th>\n",
       "      <td>30</td>\n",
       "      <td>2002</td>\n",
       "      <td>-20.82</td>\n",
       "      <td>-9.87</td>\n",
       "      <td>-31.80</td>\n",
       "      <td>216</td>\n",
       "      <td>POINT (-4870227.722205719 18054427.270440254)</td>\n",
       "    </tr>\n",
       "    <tr>\n",
       "      <th>3</th>\n",
       "      <td>30</td>\n",
       "      <td>2003</td>\n",
       "      <td>-20.89</td>\n",
       "      <td>-9.97</td>\n",
       "      <td>-31.85</td>\n",
       "      <td>204</td>\n",
       "      <td>POINT (-4870227.722205719 18054427.270440254)</td>\n",
       "    </tr>\n",
       "    <tr>\n",
       "      <th>4</th>\n",
       "      <td>30</td>\n",
       "      <td>2004</td>\n",
       "      <td>-21.18</td>\n",
       "      <td>-10.35</td>\n",
       "      <td>-32.04</td>\n",
       "      <td>189</td>\n",
       "      <td>POINT (-4870227.722205719 18054427.270440254)</td>\n",
       "    </tr>\n",
       "  </tbody>\n",
       "</table>\n",
       "</div>"
      ],
      "text/plain": [
       "   id_punto  agno  temp_anual  temp_max_anual  temp_min_anual  etp_anual  \\\n",
       "0        30  2000      -21.89          -11.05          -32.75        171   \n",
       "1        30  2001      -21.49          -10.65          -32.35        177   \n",
       "2        30  2002      -20.82           -9.87          -31.80        216   \n",
       "3        30  2003      -20.89           -9.97          -31.85        204   \n",
       "4        30  2004      -21.18          -10.35          -32.04        189   \n",
       "\n",
       "                                            geom  \n",
       "0  POINT (-4870227.722205719 18054427.270440254)  \n",
       "1  POINT (-4870227.722205719 18054427.270440254)  \n",
       "2  POINT (-4870227.722205719 18054427.270440254)  \n",
       "3  POINT (-4870227.722205719 18054427.270440254)  \n",
       "4  POINT (-4870227.722205719 18054427.270440254)  "
      ]
     },
     "execution_count": 14,
     "metadata": {},
     "output_type": "execute_result"
    }
   ],
   "source": [
    "data_clima=data_clima[['id_punto', 'agno','temp_anual','temp_max_anual','temp_min_anual','etp_anual','geom']]\n",
    "data_clima.head()\n"
   ]
  },
  {
   "cell_type": "markdown",
   "metadata": {},
   "source": [
    "### 4. Transformación del tipo de coordenadas"
   ]
  },
  {
   "cell_type": "code",
   "execution_count": 15,
   "metadata": {},
   "outputs": [],
   "source": [
    "transformer = Transformer.from_crs(\"epsg:3857\", \"epsg:4326\")"
   ]
  },
  {
   "cell_type": "code",
   "execution_count": 16,
   "metadata": {},
   "outputs": [
    {
     "data": {
      "text/html": [
       "<div>\n",
       "<style scoped>\n",
       "    .dataframe tbody tr th:only-of-type {\n",
       "        vertical-align: middle;\n",
       "    }\n",
       "\n",
       "    .dataframe tbody tr th {\n",
       "        vertical-align: top;\n",
       "    }\n",
       "\n",
       "    .dataframe thead th {\n",
       "        text-align: right;\n",
       "    }\n",
       "</style>\n",
       "<table border=\"1\" class=\"dataframe\">\n",
       "  <thead>\n",
       "    <tr style=\"text-align: right;\">\n",
       "      <th></th>\n",
       "      <th>id_punto</th>\n",
       "      <th>agno</th>\n",
       "      <th>temp_anual</th>\n",
       "      <th>temp_max_anual</th>\n",
       "      <th>temp_min_anual</th>\n",
       "      <th>etp_anual</th>\n",
       "      <th>geom</th>\n",
       "      <th>latitude</th>\n",
       "      <th>longitude</th>\n",
       "    </tr>\n",
       "  </thead>\n",
       "  <tbody>\n",
       "    <tr>\n",
       "      <th>0</th>\n",
       "      <td>30</td>\n",
       "      <td>2000</td>\n",
       "      <td>-21.89</td>\n",
       "      <td>-11.05</td>\n",
       "      <td>-32.75</td>\n",
       "      <td>171</td>\n",
       "      <td>-4870227.722205719 18054427.270440254</td>\n",
       "      <td>-4870227.722205719</td>\n",
       "      <td>18054427.270440254</td>\n",
       "    </tr>\n",
       "    <tr>\n",
       "      <th>1</th>\n",
       "      <td>30</td>\n",
       "      <td>2001</td>\n",
       "      <td>-21.49</td>\n",
       "      <td>-10.65</td>\n",
       "      <td>-32.35</td>\n",
       "      <td>177</td>\n",
       "      <td>-4870227.722205719 18054427.270440254</td>\n",
       "      <td>-4870227.722205719</td>\n",
       "      <td>18054427.270440254</td>\n",
       "    </tr>\n",
       "    <tr>\n",
       "      <th>2</th>\n",
       "      <td>30</td>\n",
       "      <td>2002</td>\n",
       "      <td>-20.82</td>\n",
       "      <td>-9.87</td>\n",
       "      <td>-31.80</td>\n",
       "      <td>216</td>\n",
       "      <td>-4870227.722205719 18054427.270440254</td>\n",
       "      <td>-4870227.722205719</td>\n",
       "      <td>18054427.270440254</td>\n",
       "    </tr>\n",
       "    <tr>\n",
       "      <th>3</th>\n",
       "      <td>30</td>\n",
       "      <td>2003</td>\n",
       "      <td>-20.89</td>\n",
       "      <td>-9.97</td>\n",
       "      <td>-31.85</td>\n",
       "      <td>204</td>\n",
       "      <td>-4870227.722205719 18054427.270440254</td>\n",
       "      <td>-4870227.722205719</td>\n",
       "      <td>18054427.270440254</td>\n",
       "    </tr>\n",
       "    <tr>\n",
       "      <th>4</th>\n",
       "      <td>30</td>\n",
       "      <td>2004</td>\n",
       "      <td>-21.18</td>\n",
       "      <td>-10.35</td>\n",
       "      <td>-32.04</td>\n",
       "      <td>189</td>\n",
       "      <td>-4870227.722205719 18054427.270440254</td>\n",
       "      <td>-4870227.722205719</td>\n",
       "      <td>18054427.270440254</td>\n",
       "    </tr>\n",
       "  </tbody>\n",
       "</table>\n",
       "</div>"
      ],
      "text/plain": [
       "   id_punto  agno  temp_anual  temp_max_anual  temp_min_anual  etp_anual  \\\n",
       "0        30  2000      -21.89          -11.05          -32.75        171   \n",
       "1        30  2001      -21.49          -10.65          -32.35        177   \n",
       "2        30  2002      -20.82           -9.87          -31.80        216   \n",
       "3        30  2003      -20.89           -9.97          -31.85        204   \n",
       "4        30  2004      -21.18          -10.35          -32.04        189   \n",
       "\n",
       "                                    geom            latitude  \\\n",
       "0  -4870227.722205719 18054427.270440254  -4870227.722205719   \n",
       "1  -4870227.722205719 18054427.270440254  -4870227.722205719   \n",
       "2  -4870227.722205719 18054427.270440254  -4870227.722205719   \n",
       "3  -4870227.722205719 18054427.270440254  -4870227.722205719   \n",
       "4  -4870227.722205719 18054427.270440254  -4870227.722205719   \n",
       "\n",
       "            longitude  \n",
       "0  18054427.270440254  \n",
       "1  18054427.270440254  \n",
       "2  18054427.270440254  \n",
       "3  18054427.270440254  \n",
       "4  18054427.270440254  "
      ]
     },
     "execution_count": 16,
     "metadata": {},
     "output_type": "execute_result"
    }
   ],
   "source": [
    "data_clima.replace(regex=['POINT '], value='', inplace=True)\n",
    "data_clima.replace(regex=['\\('], value='', inplace=True)\n",
    "data_clima.replace(regex=['\\)'], value='', inplace=True)\n",
    "data_clima[['latitude','longitude']] =  data_clima.geom.str.split(n=1,expand=True,)\n",
    "#data_temp_anual = data_temp_anual.geom.str.split(expand=True).append(data_temp_anual, ignore_index = True)\n",
    "data_clima.head()\n"
   ]
  },
  {
   "cell_type": "code",
   "execution_count": 17,
   "metadata": {},
   "outputs": [],
   "source": [
    "def coord(x,y):\n",
    "    x1,y1 = transformer.transform(x,y)\n",
    "    return x1,y1"
   ]
  },
  {
   "cell_type": "code",
   "execution_count": 18,
   "metadata": {},
   "outputs": [
    {
     "data": {
      "text/html": [
       "<div>\n",
       "<style scoped>\n",
       "    .dataframe tbody tr th:only-of-type {\n",
       "        vertical-align: middle;\n",
       "    }\n",
       "\n",
       "    .dataframe tbody tr th {\n",
       "        vertical-align: top;\n",
       "    }\n",
       "\n",
       "    .dataframe thead th {\n",
       "        text-align: right;\n",
       "    }\n",
       "</style>\n",
       "<table border=\"1\" class=\"dataframe\">\n",
       "  <thead>\n",
       "    <tr style=\"text-align: right;\">\n",
       "      <th></th>\n",
       "      <th>id_punto</th>\n",
       "      <th>agno</th>\n",
       "      <th>temp_anual</th>\n",
       "      <th>temp_max_anual</th>\n",
       "      <th>temp_min_anual</th>\n",
       "      <th>etp_anual</th>\n",
       "      <th>geom</th>\n",
       "      <th>latitude</th>\n",
       "      <th>longitude</th>\n",
       "      <th>coordenadas</th>\n",
       "    </tr>\n",
       "  </thead>\n",
       "  <tbody>\n",
       "    <tr>\n",
       "      <th>0</th>\n",
       "      <td>30</td>\n",
       "      <td>2000</td>\n",
       "      <td>-21.89</td>\n",
       "      <td>-11.05</td>\n",
       "      <td>-32.75</td>\n",
       "      <td>171</td>\n",
       "      <td>-4870227.722205719 18054427.270440254</td>\n",
       "      <td>-4870227.722205719</td>\n",
       "      <td>18054427.270440254</td>\n",
       "      <td>(83.25000000000001, -43.75)</td>\n",
       "    </tr>\n",
       "    <tr>\n",
       "      <th>1</th>\n",
       "      <td>30</td>\n",
       "      <td>2001</td>\n",
       "      <td>-21.49</td>\n",
       "      <td>-10.65</td>\n",
       "      <td>-32.35</td>\n",
       "      <td>177</td>\n",
       "      <td>-4870227.722205719 18054427.270440254</td>\n",
       "      <td>-4870227.722205719</td>\n",
       "      <td>18054427.270440254</td>\n",
       "      <td>(83.25000000000001, -43.75)</td>\n",
       "    </tr>\n",
       "    <tr>\n",
       "      <th>2</th>\n",
       "      <td>30</td>\n",
       "      <td>2002</td>\n",
       "      <td>-20.82</td>\n",
       "      <td>-9.87</td>\n",
       "      <td>-31.80</td>\n",
       "      <td>216</td>\n",
       "      <td>-4870227.722205719 18054427.270440254</td>\n",
       "      <td>-4870227.722205719</td>\n",
       "      <td>18054427.270440254</td>\n",
       "      <td>(83.25000000000001, -43.75)</td>\n",
       "    </tr>\n",
       "    <tr>\n",
       "      <th>3</th>\n",
       "      <td>30</td>\n",
       "      <td>2003</td>\n",
       "      <td>-20.89</td>\n",
       "      <td>-9.97</td>\n",
       "      <td>-31.85</td>\n",
       "      <td>204</td>\n",
       "      <td>-4870227.722205719 18054427.270440254</td>\n",
       "      <td>-4870227.722205719</td>\n",
       "      <td>18054427.270440254</td>\n",
       "      <td>(83.25000000000001, -43.75)</td>\n",
       "    </tr>\n",
       "    <tr>\n",
       "      <th>4</th>\n",
       "      <td>30</td>\n",
       "      <td>2004</td>\n",
       "      <td>-21.18</td>\n",
       "      <td>-10.35</td>\n",
       "      <td>-32.04</td>\n",
       "      <td>189</td>\n",
       "      <td>-4870227.722205719 18054427.270440254</td>\n",
       "      <td>-4870227.722205719</td>\n",
       "      <td>18054427.270440254</td>\n",
       "      <td>(83.25000000000001, -43.75)</td>\n",
       "    </tr>\n",
       "  </tbody>\n",
       "</table>\n",
       "</div>"
      ],
      "text/plain": [
       "   id_punto  agno  temp_anual  temp_max_anual  temp_min_anual  etp_anual  \\\n",
       "0        30  2000      -21.89          -11.05          -32.75        171   \n",
       "1        30  2001      -21.49          -10.65          -32.35        177   \n",
       "2        30  2002      -20.82           -9.87          -31.80        216   \n",
       "3        30  2003      -20.89           -9.97          -31.85        204   \n",
       "4        30  2004      -21.18          -10.35          -32.04        189   \n",
       "\n",
       "                                    geom            latitude  \\\n",
       "0  -4870227.722205719 18054427.270440254  -4870227.722205719   \n",
       "1  -4870227.722205719 18054427.270440254  -4870227.722205719   \n",
       "2  -4870227.722205719 18054427.270440254  -4870227.722205719   \n",
       "3  -4870227.722205719 18054427.270440254  -4870227.722205719   \n",
       "4  -4870227.722205719 18054427.270440254  -4870227.722205719   \n",
       "\n",
       "            longitude                  coordenadas  \n",
       "0  18054427.270440254  (83.25000000000001, -43.75)  \n",
       "1  18054427.270440254  (83.25000000000001, -43.75)  \n",
       "2  18054427.270440254  (83.25000000000001, -43.75)  \n",
       "3  18054427.270440254  (83.25000000000001, -43.75)  \n",
       "4  18054427.270440254  (83.25000000000001, -43.75)  "
      ]
     },
     "execution_count": 18,
     "metadata": {},
     "output_type": "execute_result"
    }
   ],
   "source": [
    "data_clima['coordenadas'] = data_clima.apply(lambda x: coord(x.latitude, x.longitude), axis=1)\n",
    "data_clima.head()"
   ]
  },
  {
   "cell_type": "code",
   "execution_count": 19,
   "metadata": {},
   "outputs": [
    {
     "data": {
      "text/html": [
       "<div>\n",
       "<style scoped>\n",
       "    .dataframe tbody tr th:only-of-type {\n",
       "        vertical-align: middle;\n",
       "    }\n",
       "\n",
       "    .dataframe tbody tr th {\n",
       "        vertical-align: top;\n",
       "    }\n",
       "\n",
       "    .dataframe thead th {\n",
       "        text-align: right;\n",
       "    }\n",
       "</style>\n",
       "<table border=\"1\" class=\"dataframe\">\n",
       "  <thead>\n",
       "    <tr style=\"text-align: right;\">\n",
       "      <th></th>\n",
       "      <th>agno</th>\n",
       "      <th>temp_anual</th>\n",
       "      <th>temp_max_anual</th>\n",
       "      <th>temp_min_anual</th>\n",
       "      <th>etp_anual</th>\n",
       "      <th>coordenadas</th>\n",
       "    </tr>\n",
       "  </thead>\n",
       "  <tbody>\n",
       "    <tr>\n",
       "      <th>0</th>\n",
       "      <td>2000</td>\n",
       "      <td>-21.89</td>\n",
       "      <td>-11.05</td>\n",
       "      <td>-32.75</td>\n",
       "      <td>171</td>\n",
       "      <td>(83.25000000000001, -43.75)</td>\n",
       "    </tr>\n",
       "    <tr>\n",
       "      <th>1</th>\n",
       "      <td>2001</td>\n",
       "      <td>-21.49</td>\n",
       "      <td>-10.65</td>\n",
       "      <td>-32.35</td>\n",
       "      <td>177</td>\n",
       "      <td>(83.25000000000001, -43.75)</td>\n",
       "    </tr>\n",
       "    <tr>\n",
       "      <th>2</th>\n",
       "      <td>2002</td>\n",
       "      <td>-20.82</td>\n",
       "      <td>-9.87</td>\n",
       "      <td>-31.80</td>\n",
       "      <td>216</td>\n",
       "      <td>(83.25000000000001, -43.75)</td>\n",
       "    </tr>\n",
       "    <tr>\n",
       "      <th>3</th>\n",
       "      <td>2003</td>\n",
       "      <td>-20.89</td>\n",
       "      <td>-9.97</td>\n",
       "      <td>-31.85</td>\n",
       "      <td>204</td>\n",
       "      <td>(83.25000000000001, -43.75)</td>\n",
       "    </tr>\n",
       "    <tr>\n",
       "      <th>4</th>\n",
       "      <td>2004</td>\n",
       "      <td>-21.18</td>\n",
       "      <td>-10.35</td>\n",
       "      <td>-32.04</td>\n",
       "      <td>189</td>\n",
       "      <td>(83.25000000000001, -43.75)</td>\n",
       "    </tr>\n",
       "  </tbody>\n",
       "</table>\n",
       "</div>"
      ],
      "text/plain": [
       "   agno  temp_anual  temp_max_anual  temp_min_anual  etp_anual  \\\n",
       "0  2000      -21.89          -11.05          -32.75        171   \n",
       "1  2001      -21.49          -10.65          -32.35        177   \n",
       "2  2002      -20.82           -9.87          -31.80        216   \n",
       "3  2003      -20.89           -9.97          -31.85        204   \n",
       "4  2004      -21.18          -10.35          -32.04        189   \n",
       "\n",
       "                   coordenadas  \n",
       "0  (83.25000000000001, -43.75)  \n",
       "1  (83.25000000000001, -43.75)  \n",
       "2  (83.25000000000001, -43.75)  \n",
       "3  (83.25000000000001, -43.75)  \n",
       "4  (83.25000000000001, -43.75)  "
      ]
     },
     "execution_count": 19,
     "metadata": {},
     "output_type": "execute_result"
    }
   ],
   "source": [
    "data_clima.drop(['id_punto', 'geom','latitude','longitude'], axis = 1, inplace = True)\n",
    "data_clima.head()"
   ]
  },
  {
   "cell_type": "code",
   "execution_count": 21,
   "metadata": {},
   "outputs": [],
   "source": [
    "data_clima.to_csv('Data_clima_final.csv')"
   ]
  }
 ],
 "metadata": {
  "kernelspec": {
   "display_name": "Python 3",
   "language": "python",
   "name": "python3"
  },
  "language_info": {
   "codemirror_mode": {
    "name": "ipython",
    "version": 3
   },
   "file_extension": ".py",
   "mimetype": "text/x-python",
   "name": "python",
   "nbconvert_exporter": "python",
   "pygments_lexer": "ipython3",
   "version": "3.8.5"
  }
 },
 "nbformat": 4,
 "nbformat_minor": 4
}
